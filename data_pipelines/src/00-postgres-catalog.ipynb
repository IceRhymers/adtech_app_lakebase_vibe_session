{
 "cells": [
  {
   "cell_type": "markdown",
   "metadata": {
    "application/vnd.databricks.v1+cell": {
     "cellMetadata": {},
     "inputWidgets": {},
     "nuid": "ee353e42-ff58-4955-9608-12865bd0950e",
     "showTitle": false,
     "title": ""
    }
   },
   "source": [
    "# Default notebook\n",
    "\n",
    "This default notebook is executed using Databricks Workflows as defined in resources/adtech_vector_chat.job.yml."
   ]
  },
  {
   "cell_type": "code",
   "execution_count": 2,
   "metadata": {},
   "outputs": [
    {
     "name": "stdout",
     "output_type": "stream",
     "text": [
      "Requirement already satisfied: databricks-sdk==0.61.0 in /Users/tanner.wendland/projects/adtech_app_lakebase_vibe_session/.venv/lib/python3.11/site-packages (0.61.0)\n",
      "Requirement already satisfied: requests<3,>=2.28.1 in /Users/tanner.wendland/projects/adtech_app_lakebase_vibe_session/.venv/lib/python3.11/site-packages (from databricks-sdk==0.61.0) (2.32.4)\n",
      "Requirement already satisfied: google-auth~=2.0 in /Users/tanner.wendland/projects/adtech_app_lakebase_vibe_session/.venv/lib/python3.11/site-packages (from databricks-sdk==0.61.0) (2.40.3)\n",
      "Requirement already satisfied: cachetools<6.0,>=2.0.0 in /Users/tanner.wendland/projects/adtech_app_lakebase_vibe_session/.venv/lib/python3.11/site-packages (from google-auth~=2.0->databricks-sdk==0.61.0) (5.5.2)\n",
      "Requirement already satisfied: pyasn1-modules>=0.2.1 in /Users/tanner.wendland/projects/adtech_app_lakebase_vibe_session/.venv/lib/python3.11/site-packages (from google-auth~=2.0->databricks-sdk==0.61.0) (0.4.2)\n",
      "Requirement already satisfied: rsa<5,>=3.1.4 in /Users/tanner.wendland/projects/adtech_app_lakebase_vibe_session/.venv/lib/python3.11/site-packages (from google-auth~=2.0->databricks-sdk==0.61.0) (4.9.1)\n",
      "Requirement already satisfied: charset_normalizer<4,>=2 in /Users/tanner.wendland/projects/adtech_app_lakebase_vibe_session/.venv/lib/python3.11/site-packages (from requests<3,>=2.28.1->databricks-sdk==0.61.0) (3.4.2)\n",
      "Requirement already satisfied: idna<4,>=2.5 in /Users/tanner.wendland/projects/adtech_app_lakebase_vibe_session/.venv/lib/python3.11/site-packages (from requests<3,>=2.28.1->databricks-sdk==0.61.0) (3.10)\n",
      "Requirement already satisfied: urllib3<3,>=1.21.1 in /Users/tanner.wendland/projects/adtech_app_lakebase_vibe_session/.venv/lib/python3.11/site-packages (from requests<3,>=2.28.1->databricks-sdk==0.61.0) (2.5.0)\n",
      "Requirement already satisfied: certifi>=2017.4.17 in /Users/tanner.wendland/projects/adtech_app_lakebase_vibe_session/.venv/lib/python3.11/site-packages (from requests<3,>=2.28.1->databricks-sdk==0.61.0) (2025.7.14)\n",
      "Requirement already satisfied: pyasn1>=0.1.3 in /Users/tanner.wendland/projects/adtech_app_lakebase_vibe_session/.venv/lib/python3.11/site-packages (from rsa<5,>=3.1.4->google-auth~=2.0->databricks-sdk==0.61.0) (0.6.1)\n",
      "Requirement already satisfied: ipython<10,>=8 in /Users/tanner.wendland/projects/adtech_app_lakebase_vibe_session/.venv/lib/python3.11/site-packages (from databricks-sdk[notebook]) (9.4.0)\n",
      "Requirement already satisfied: ipywidgets<9,>=8 in /Users/tanner.wendland/projects/adtech_app_lakebase_vibe_session/.venv/lib/python3.11/site-packages (from databricks-sdk[notebook]) (8.1.7)\n",
      "Requirement already satisfied: decorator in /Users/tanner.wendland/projects/adtech_app_lakebase_vibe_session/.venv/lib/python3.11/site-packages (from ipython<10,>=8->databricks-sdk[notebook]) (5.2.1)\n",
      "Requirement already satisfied: ipython-pygments-lexers in /Users/tanner.wendland/projects/adtech_app_lakebase_vibe_session/.venv/lib/python3.11/site-packages (from ipython<10,>=8->databricks-sdk[notebook]) (1.1.1)\n",
      "Requirement already satisfied: jedi>=0.16 in /Users/tanner.wendland/projects/adtech_app_lakebase_vibe_session/.venv/lib/python3.11/site-packages (from ipython<10,>=8->databricks-sdk[notebook]) (0.19.2)\n",
      "Requirement already satisfied: matplotlib-inline in /Users/tanner.wendland/projects/adtech_app_lakebase_vibe_session/.venv/lib/python3.11/site-packages (from ipython<10,>=8->databricks-sdk[notebook]) (0.1.7)\n",
      "Requirement already satisfied: pexpect>4.3 in /Users/tanner.wendland/projects/adtech_app_lakebase_vibe_session/.venv/lib/python3.11/site-packages (from ipython<10,>=8->databricks-sdk[notebook]) (4.9.0)\n",
      "Requirement already satisfied: prompt_toolkit<3.1.0,>=3.0.41 in /Users/tanner.wendland/projects/adtech_app_lakebase_vibe_session/.venv/lib/python3.11/site-packages (from ipython<10,>=8->databricks-sdk[notebook]) (3.0.51)\n",
      "Requirement already satisfied: pygments>=2.4.0 in /Users/tanner.wendland/projects/adtech_app_lakebase_vibe_session/.venv/lib/python3.11/site-packages (from ipython<10,>=8->databricks-sdk[notebook]) (2.19.2)\n",
      "Requirement already satisfied: stack_data in /Users/tanner.wendland/projects/adtech_app_lakebase_vibe_session/.venv/lib/python3.11/site-packages (from ipython<10,>=8->databricks-sdk[notebook]) (0.6.3)\n",
      "Requirement already satisfied: traitlets>=5.13.0 in /Users/tanner.wendland/projects/adtech_app_lakebase_vibe_session/.venv/lib/python3.11/site-packages (from ipython<10,>=8->databricks-sdk[notebook]) (5.14.3)\n",
      "Requirement already satisfied: typing_extensions>=4.6 in /Users/tanner.wendland/projects/adtech_app_lakebase_vibe_session/.venv/lib/python3.11/site-packages (from ipython<10,>=8->databricks-sdk[notebook]) (4.14.1)\n",
      "Requirement already satisfied: comm>=0.1.3 in /Users/tanner.wendland/projects/adtech_app_lakebase_vibe_session/.venv/lib/python3.11/site-packages (from ipywidgets<9,>=8->databricks-sdk[notebook]) (0.2.3)\n",
      "Requirement already satisfied: widgetsnbextension~=4.0.14 in /Users/tanner.wendland/projects/adtech_app_lakebase_vibe_session/.venv/lib/python3.11/site-packages (from ipywidgets<9,>=8->databricks-sdk[notebook]) (4.0.14)\n",
      "Requirement already satisfied: jupyterlab_widgets~=3.0.15 in /Users/tanner.wendland/projects/adtech_app_lakebase_vibe_session/.venv/lib/python3.11/site-packages (from ipywidgets<9,>=8->databricks-sdk[notebook]) (3.0.15)\n",
      "Requirement already satisfied: wcwidth in /Users/tanner.wendland/projects/adtech_app_lakebase_vibe_session/.venv/lib/python3.11/site-packages (from prompt_toolkit<3.1.0,>=3.0.41->ipython<10,>=8->databricks-sdk[notebook]) (0.2.13)\n",
      "Requirement already satisfied: parso<0.9.0,>=0.8.4 in /Users/tanner.wendland/projects/adtech_app_lakebase_vibe_session/.venv/lib/python3.11/site-packages (from jedi>=0.16->ipython<10,>=8->databricks-sdk[notebook]) (0.8.4)\n",
      "Requirement already satisfied: ptyprocess>=0.5 in /Users/tanner.wendland/projects/adtech_app_lakebase_vibe_session/.venv/lib/python3.11/site-packages (from pexpect>4.3->ipython<10,>=8->databricks-sdk[notebook]) (0.7.0)\n",
      "Requirement already satisfied: executing>=1.2.0 in /Users/tanner.wendland/projects/adtech_app_lakebase_vibe_session/.venv/lib/python3.11/site-packages (from stack_data->ipython<10,>=8->databricks-sdk[notebook]) (2.2.0)\n",
      "Requirement already satisfied: asttokens>=2.1.0 in /Users/tanner.wendland/projects/adtech_app_lakebase_vibe_session/.venv/lib/python3.11/site-packages (from stack_data->ipython<10,>=8->databricks-sdk[notebook]) (3.0.0)\n",
      "Requirement already satisfied: pure-eval in /Users/tanner.wendland/projects/adtech_app_lakebase_vibe_session/.venv/lib/python3.11/site-packages (from stack_data->ipython<10,>=8->databricks-sdk[notebook]) (0.2.3)\n",
      "Note: you may need to restart the kernel to use updated packages.\n"
     ]
    }
   ],
   "source": [
    "%pip install 'databricks-sdk==0.61.0' 'databricks-sdk[notebook]'"
   ]
  },
  {
   "cell_type": "code",
   "execution_count": 2,
   "metadata": {},
   "outputs": [],
   "source": [
    "%load_ext autoreload\n",
    "%autoreload 2"
   ]
  },
  {
   "cell_type": "code",
   "execution_count": 5,
   "metadata": {},
   "outputs": [
    {
     "data": {
      "application/vnd.jupyter.widget-view+json": {
       "model_id": "de134938b0ce418a8170087e21005596",
       "version_major": 2,
       "version_minor": 0
      },
      "text/plain": [
       "Box(children=(Label(value='db_instance_name'), Text(value='tannerw-adtech-db')))"
      ]
     },
     "metadata": {},
     "output_type": "display_data"
    },
    {
     "data": {
      "application/vnd.jupyter.widget-view+json": {
       "model_id": "6e046205ab50405e8068340bedf6ddaf",
       "version_major": 2,
       "version_minor": 0
      },
      "text/plain": [
       "Box(children=(Label(value='db_database_name'), Text(value='databricks_postgres')))"
      ]
     },
     "metadata": {},
     "output_type": "display_data"
    },
    {
     "data": {
      "application/vnd.jupyter.widget-view+json": {
       "model_id": "c5ba8765512443f19fd958dc1de24869",
       "version_major": 2,
       "version_minor": 0
      },
      "text/plain": [
       "Box(children=(Label(value='catalog_name'), Text(value='tanner_wendland_postgres_adtech')))"
      ]
     },
     "metadata": {},
     "output_type": "display_data"
    }
   ],
   "source": [
    "dbutils.widgets.text(\"db_instance_name\", \"tannerw-adtech-db\")\n",
    "dbutils.widgets.text(\"db_database_name\", \"databricks_postgres\")\n",
    "dbutils.widgets.text(\"catalog_name\", \"tanner_wendland_postgres_adtech\")"
   ]
  },
  {
   "cell_type": "code",
   "execution_count": 6,
   "metadata": {},
   "outputs": [],
   "source": [
    "db_instance_name = dbutils.widgets.get(\"db_instance_name\")\n",
    "db_database_name = dbutils.widgets.get(\"db_database_name\")\n",
    "catalog_name = dbutils.widgets.get(\"catalog_name\")"
   ]
  },
  {
   "cell_type": "code",
   "execution_count": 4,
   "metadata": {},
   "outputs": [
    {
     "name": "stdout",
     "output_type": "stream",
     "text": [
      "Created database catalog: tanner_wendland_postgres_adtech\n"
     ]
    }
   ],
   "source": [
    "from databricks.sdk import WorkspaceClient\n",
    "from databricks.sdk.service.database import DatabaseCatalog\n",
    "\n",
    "# Initialize the Workspace client\n",
    "w = WorkspaceClient()\n",
    "\n",
    "# Check if the catalog exists using functional techniques\n",
    "catalog_exists = any(catalog.name == catalog_name for catalog in w.catalogs.list())\n",
    "\n",
    "if not catalog_exists:\n",
    "    # Create the catalog\n",
    "    catalog = w.database.create_database_catalog(\n",
    "        DatabaseCatalog(\n",
    "            name=catalog_name,\n",
    "            database_instance_name=db_instance_name,\n",
    "            database_name=db_database_name,\n",
    "        )\n",
    "    )\n",
    "    print(f\"Created database catalog: {catalog.name}\")\n",
    "else:\n",
    "    print(f\"Database catalog '{catalog_name}' already exists\")"
   ]
  }
 ],
 "metadata": {
  "application/vnd.databricks.v1+notebook": {
   "dashboards": [],
   "language": "python",
   "notebookMetadata": {
    "pythonIndentUnit": 2
   },
   "notebookName": "notebook",
   "widgets": {}
  },
  "kernelspec": {
   "display_name": ".venv",
   "language": "python",
   "name": "python3"
  },
  "language_info": {
   "codemirror_mode": {
    "name": "ipython",
    "version": 3
   },
   "file_extension": ".py",
   "mimetype": "text/x-python",
   "name": "python",
   "nbconvert_exporter": "python",
   "pygments_lexer": "ipython3",
   "version": "3.11.10"
  }
 },
 "nbformat": 4,
 "nbformat_minor": 0
}
