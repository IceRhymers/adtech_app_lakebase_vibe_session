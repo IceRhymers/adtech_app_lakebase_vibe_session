{
 "cells": [
  {
   "cell_type": "code",
   "execution_count": 3,
   "metadata": {},
   "outputs": [
    {
     "name": "stdout",
     "output_type": "stream",
     "text": [
      "Requirement already satisfied: databricks-sdk==0.61.0 in /Users/tanner.wendland/projects/adtech_app_lakebase_vibe_session/.venv/lib/python3.11/site-packages (0.61.0)\n",
      "Collecting pyarrow<20\n",
      "  Using cached pyarrow-19.0.1-cp311-cp311-macosx_12_0_arm64.whl.metadata (3.3 kB)\n",
      "Requirement already satisfied: databricks-agents==1.2.0 in /Users/tanner.wendland/projects/adtech_app_lakebase_vibe_session/.venv/lib/python3.11/site-packages (1.2.0)\n",
      "Requirement already satisfied: mlflow<=3.1 in /Users/tanner.wendland/projects/adtech_app_lakebase_vibe_session/.venv/lib/python3.11/site-packages (3.1.0)\n",
      "Requirement already satisfied: databricks-vectorsearch==0.57 in /Users/tanner.wendland/projects/adtech_app_lakebase_vibe_session/.venv/lib/python3.11/site-packages (0.57)\n",
      "Requirement already satisfied: langchain in /Users/tanner.wendland/projects/adtech_app_lakebase_vibe_session/.venv/lib/python3.11/site-packages (0.3.27)\n",
      "Requirement already satisfied: langchain_core in /Users/tanner.wendland/projects/adtech_app_lakebase_vibe_session/.venv/lib/python3.11/site-packages (0.3.72)\n",
      "Requirement already satisfied: databricks-langchain in /Users/tanner.wendland/projects/adtech_app_lakebase_vibe_session/.venv/lib/python3.11/site-packages (0.6.0)\n",
      "Requirement already satisfied: bs4 in /Users/tanner.wendland/projects/adtech_app_lakebase_vibe_session/.venv/lib/python3.11/site-packages (0.0.2)\n",
      "Requirement already satisfied: markdownify in /Users/tanner.wendland/projects/adtech_app_lakebase_vibe_session/.venv/lib/python3.11/site-packages (1.1.0)\n",
      "Requirement already satisfied: dotenv in /Users/tanner.wendland/projects/adtech_app_lakebase_vibe_session/.venv/lib/python3.11/site-packages (0.9.9)\n",
      "Requirement already satisfied: requests<3,>=2.28.1 in /Users/tanner.wendland/projects/adtech_app_lakebase_vibe_session/.venv/lib/python3.11/site-packages (from databricks-sdk==0.61.0) (2.32.4)\n",
      "Requirement already satisfied: google-auth~=2.0 in /Users/tanner.wendland/projects/adtech_app_lakebase_vibe_session/.venv/lib/python3.11/site-packages (from databricks-sdk==0.61.0) (2.40.3)\n",
      "Requirement already satisfied: databricks-connect in /Users/tanner.wendland/projects/adtech_app_lakebase_vibe_session/.venv/lib/python3.11/site-packages (from databricks-agents==1.2.0) (16.1.6)\n",
      "Requirement already satisfied: dataclasses-json in /Users/tanner.wendland/projects/adtech_app_lakebase_vibe_session/.venv/lib/python3.11/site-packages (from databricks-agents==1.2.0) (0.6.7)\n",
      "Requirement already satisfied: jinja2>=3.0.0 in /Users/tanner.wendland/projects/adtech_app_lakebase_vibe_session/.venv/lib/python3.11/site-packages (from databricks-agents==1.2.0) (3.1.6)\n",
      "Requirement already satisfied: mlflow-skinny<4.0.0,>=3.1.0 in /Users/tanner.wendland/projects/adtech_app_lakebase_vibe_session/.venv/lib/python3.11/site-packages (from databricks-agents==1.2.0) (3.1.0)\n",
      "Requirement already satisfied: tenacity>=8.5 in /Users/tanner.wendland/projects/adtech_app_lakebase_vibe_session/.venv/lib/python3.11/site-packages (from databricks-agents==1.2.0) (9.1.2)\n",
      "Requirement already satisfied: tiktoken>=0.8.0 in /Users/tanner.wendland/projects/adtech_app_lakebase_vibe_session/.venv/lib/python3.11/site-packages (from databricks-agents==1.2.0) (0.9.0)\n",
      "Requirement already satisfied: tqdm in /Users/tanner.wendland/projects/adtech_app_lakebase_vibe_session/.venv/lib/python3.11/site-packages (from databricks-agents==1.2.0) (4.67.1)\n",
      "Requirement already satisfied: urllib3>=2.0 in /Users/tanner.wendland/projects/adtech_app_lakebase_vibe_session/.venv/lib/python3.11/site-packages (from databricks-agents==1.2.0) (2.5.0)\n",
      "Requirement already satisfied: pydantic>=2 in /Users/tanner.wendland/projects/adtech_app_lakebase_vibe_session/.venv/lib/python3.11/site-packages (from databricks-agents==1.2.0) (2.11.7)\n",
      "Requirement already satisfied: whenever==0.7.3 in /Users/tanner.wendland/projects/adtech_app_lakebase_vibe_session/.venv/lib/python3.11/site-packages (from databricks-agents==1.2.0) (0.7.3)\n",
      "Requirement already satisfied: boto3>1 in /Users/tanner.wendland/projects/adtech_app_lakebase_vibe_session/.venv/lib/python3.11/site-packages (from databricks-agents==1.2.0) (1.40.0)\n",
      "Requirement already satisfied: botocore in /Users/tanner.wendland/projects/adtech_app_lakebase_vibe_session/.venv/lib/python3.11/site-packages (from databricks-agents==1.2.0) (1.40.0)\n",
      "Requirement already satisfied: protobuf<6,>=3.12.0 in /Users/tanner.wendland/projects/adtech_app_lakebase_vibe_session/.venv/lib/python3.11/site-packages (from databricks-vectorsearch==0.57) (5.29.5)\n",
      "Requirement already satisfied: deprecation>=2 in /Users/tanner.wendland/projects/adtech_app_lakebase_vibe_session/.venv/lib/python3.11/site-packages (from databricks-vectorsearch==0.57) (2.1.0)\n",
      "Requirement already satisfied: Flask<4 in /Users/tanner.wendland/projects/adtech_app_lakebase_vibe_session/.venv/lib/python3.11/site-packages (from mlflow<=3.1) (3.1.1)\n",
      "Requirement already satisfied: alembic!=1.10.0,<2 in /Users/tanner.wendland/projects/adtech_app_lakebase_vibe_session/.venv/lib/python3.11/site-packages (from mlflow<=3.1) (1.16.4)\n",
      "Requirement already satisfied: docker<8,>=4.0.0 in /Users/tanner.wendland/projects/adtech_app_lakebase_vibe_session/.venv/lib/python3.11/site-packages (from mlflow<=3.1) (7.1.0)\n",
      "Requirement already satisfied: graphene<4 in /Users/tanner.wendland/projects/adtech_app_lakebase_vibe_session/.venv/lib/python3.11/site-packages (from mlflow<=3.1) (3.4.3)\n",
      "Requirement already satisfied: gunicorn<24 in /Users/tanner.wendland/projects/adtech_app_lakebase_vibe_session/.venv/lib/python3.11/site-packages (from mlflow<=3.1) (23.0.0)\n",
      "Requirement already satisfied: matplotlib<4 in /Users/tanner.wendland/projects/adtech_app_lakebase_vibe_session/.venv/lib/python3.11/site-packages (from mlflow<=3.1) (3.10.5)\n",
      "Requirement already satisfied: numpy<3 in /Users/tanner.wendland/projects/adtech_app_lakebase_vibe_session/.venv/lib/python3.11/site-packages (from mlflow<=3.1) (1.26.4)\n",
      "Requirement already satisfied: pandas<3 in /Users/tanner.wendland/projects/adtech_app_lakebase_vibe_session/.venv/lib/python3.11/site-packages (from mlflow<=3.1) (2.3.1)\n",
      "Requirement already satisfied: scikit-learn<2 in /Users/tanner.wendland/projects/adtech_app_lakebase_vibe_session/.venv/lib/python3.11/site-packages (from mlflow<=3.1) (1.7.1)\n",
      "Requirement already satisfied: scipy<2 in /Users/tanner.wendland/projects/adtech_app_lakebase_vibe_session/.venv/lib/python3.11/site-packages (from mlflow<=3.1) (1.16.1)\n",
      "Requirement already satisfied: sqlalchemy<3,>=1.4.0 in /Users/tanner.wendland/projects/adtech_app_lakebase_vibe_session/.venv/lib/python3.11/site-packages (from mlflow<=3.1) (2.0.42)\n",
      "Requirement already satisfied: cachetools<7,>=5.0.0 in /Users/tanner.wendland/projects/adtech_app_lakebase_vibe_session/.venv/lib/python3.11/site-packages (from mlflow-skinny<4.0.0,>=3.1.0->databricks-agents==1.2.0) (5.5.2)\n",
      "Requirement already satisfied: click<9,>=7.0 in /Users/tanner.wendland/projects/adtech_app_lakebase_vibe_session/.venv/lib/python3.11/site-packages (from mlflow-skinny<4.0.0,>=3.1.0->databricks-agents==1.2.0) (8.2.1)\n",
      "Requirement already satisfied: cloudpickle<4 in /Users/tanner.wendland/projects/adtech_app_lakebase_vibe_session/.venv/lib/python3.11/site-packages (from mlflow-skinny<4.0.0,>=3.1.0->databricks-agents==1.2.0) (3.1.1)\n",
      "Requirement already satisfied: fastapi<1 in /Users/tanner.wendland/projects/adtech_app_lakebase_vibe_session/.venv/lib/python3.11/site-packages (from mlflow-skinny<4.0.0,>=3.1.0->databricks-agents==1.2.0) (0.116.1)\n",
      "Requirement already satisfied: gitpython<4,>=3.1.9 in /Users/tanner.wendland/projects/adtech_app_lakebase_vibe_session/.venv/lib/python3.11/site-packages (from mlflow-skinny<4.0.0,>=3.1.0->databricks-agents==1.2.0) (3.1.45)\n",
      "Requirement already satisfied: importlib_metadata!=4.7.0,<9,>=3.7.0 in /Users/tanner.wendland/projects/adtech_app_lakebase_vibe_session/.venv/lib/python3.11/site-packages (from mlflow-skinny<4.0.0,>=3.1.0->databricks-agents==1.2.0) (8.7.0)\n",
      "Requirement already satisfied: opentelemetry-api<3,>=1.9.0 in /Users/tanner.wendland/projects/adtech_app_lakebase_vibe_session/.venv/lib/python3.11/site-packages (from mlflow-skinny<4.0.0,>=3.1.0->databricks-agents==1.2.0) (1.36.0)\n",
      "Requirement already satisfied: opentelemetry-sdk<3,>=1.9.0 in /Users/tanner.wendland/projects/adtech_app_lakebase_vibe_session/.venv/lib/python3.11/site-packages (from mlflow-skinny<4.0.0,>=3.1.0->databricks-agents==1.2.0) (1.36.0)\n",
      "Requirement already satisfied: packaging<26 in /Users/tanner.wendland/projects/adtech_app_lakebase_vibe_session/.venv/lib/python3.11/site-packages (from mlflow-skinny<4.0.0,>=3.1.0->databricks-agents==1.2.0) (25.0)\n",
      "Requirement already satisfied: pyyaml<7,>=5.1 in /Users/tanner.wendland/projects/adtech_app_lakebase_vibe_session/.venv/lib/python3.11/site-packages (from mlflow-skinny<4.0.0,>=3.1.0->databricks-agents==1.2.0) (6.0.2)\n",
      "Requirement already satisfied: sqlparse<1,>=0.4.0 in /Users/tanner.wendland/projects/adtech_app_lakebase_vibe_session/.venv/lib/python3.11/site-packages (from mlflow-skinny<4.0.0,>=3.1.0->databricks-agents==1.2.0) (0.5.3)\n",
      "Requirement already satisfied: typing-extensions<5,>=4.0.0 in /Users/tanner.wendland/projects/adtech_app_lakebase_vibe_session/.venv/lib/python3.11/site-packages (from mlflow-skinny<4.0.0,>=3.1.0->databricks-agents==1.2.0) (4.14.1)\n",
      "Requirement already satisfied: uvicorn<1 in /Users/tanner.wendland/projects/adtech_app_lakebase_vibe_session/.venv/lib/python3.11/site-packages (from mlflow-skinny<4.0.0,>=3.1.0->databricks-agents==1.2.0) (0.35.0)\n",
      "Requirement already satisfied: Mako in /Users/tanner.wendland/projects/adtech_app_lakebase_vibe_session/.venv/lib/python3.11/site-packages (from alembic!=1.10.0,<2->mlflow<=3.1) (1.3.10)\n",
      "Requirement already satisfied: starlette<0.48.0,>=0.40.0 in /Users/tanner.wendland/projects/adtech_app_lakebase_vibe_session/.venv/lib/python3.11/site-packages (from fastapi<1->mlflow-skinny<4.0.0,>=3.1.0->databricks-agents==1.2.0) (0.47.2)\n",
      "Requirement already satisfied: blinker>=1.9.0 in /Users/tanner.wendland/projects/adtech_app_lakebase_vibe_session/.venv/lib/python3.11/site-packages (from Flask<4->mlflow<=3.1) (1.9.0)\n",
      "Requirement already satisfied: itsdangerous>=2.2.0 in /Users/tanner.wendland/projects/adtech_app_lakebase_vibe_session/.venv/lib/python3.11/site-packages (from Flask<4->mlflow<=3.1) (2.2.0)\n",
      "Requirement already satisfied: markupsafe>=2.1.1 in /Users/tanner.wendland/projects/adtech_app_lakebase_vibe_session/.venv/lib/python3.11/site-packages (from Flask<4->mlflow<=3.1) (3.0.2)\n",
      "Requirement already satisfied: werkzeug>=3.1.0 in /Users/tanner.wendland/projects/adtech_app_lakebase_vibe_session/.venv/lib/python3.11/site-packages (from Flask<4->mlflow<=3.1) (3.1.3)\n",
      "Requirement already satisfied: gitdb<5,>=4.0.1 in /Users/tanner.wendland/projects/adtech_app_lakebase_vibe_session/.venv/lib/python3.11/site-packages (from gitpython<4,>=3.1.9->mlflow-skinny<4.0.0,>=3.1.0->databricks-agents==1.2.0) (4.0.12)\n",
      "Requirement already satisfied: smmap<6,>=3.0.1 in /Users/tanner.wendland/projects/adtech_app_lakebase_vibe_session/.venv/lib/python3.11/site-packages (from gitdb<5,>=4.0.1->gitpython<4,>=3.1.9->mlflow-skinny<4.0.0,>=3.1.0->databricks-agents==1.2.0) (5.0.2)\n",
      "Requirement already satisfied: pyasn1-modules>=0.2.1 in /Users/tanner.wendland/projects/adtech_app_lakebase_vibe_session/.venv/lib/python3.11/site-packages (from google-auth~=2.0->databricks-sdk==0.61.0) (0.4.2)\n",
      "Requirement already satisfied: rsa<5,>=3.1.4 in /Users/tanner.wendland/projects/adtech_app_lakebase_vibe_session/.venv/lib/python3.11/site-packages (from google-auth~=2.0->databricks-sdk==0.61.0) (4.9.1)\n",
      "Requirement already satisfied: graphql-core<3.3,>=3.1 in /Users/tanner.wendland/projects/adtech_app_lakebase_vibe_session/.venv/lib/python3.11/site-packages (from graphene<4->mlflow<=3.1) (3.2.6)\n",
      "Requirement already satisfied: graphql-relay<3.3,>=3.1 in /Users/tanner.wendland/projects/adtech_app_lakebase_vibe_session/.venv/lib/python3.11/site-packages (from graphene<4->mlflow<=3.1) (3.2.0)\n",
      "Requirement already satisfied: python-dateutil<3,>=2.7.0 in /Users/tanner.wendland/projects/adtech_app_lakebase_vibe_session/.venv/lib/python3.11/site-packages (from graphene<4->mlflow<=3.1) (2.9.0.post0)\n",
      "Requirement already satisfied: zipp>=3.20 in /Users/tanner.wendland/projects/adtech_app_lakebase_vibe_session/.venv/lib/python3.11/site-packages (from importlib_metadata!=4.7.0,<9,>=3.7.0->mlflow-skinny<4.0.0,>=3.1.0->databricks-agents==1.2.0) (3.23.0)\n",
      "Requirement already satisfied: contourpy>=1.0.1 in /Users/tanner.wendland/projects/adtech_app_lakebase_vibe_session/.venv/lib/python3.11/site-packages (from matplotlib<4->mlflow<=3.1) (1.3.3)\n",
      "Requirement already satisfied: cycler>=0.10 in /Users/tanner.wendland/projects/adtech_app_lakebase_vibe_session/.venv/lib/python3.11/site-packages (from matplotlib<4->mlflow<=3.1) (0.12.1)\n",
      "Requirement already satisfied: fonttools>=4.22.0 in /Users/tanner.wendland/projects/adtech_app_lakebase_vibe_session/.venv/lib/python3.11/site-packages (from matplotlib<4->mlflow<=3.1) (4.59.0)\n",
      "Requirement already satisfied: kiwisolver>=1.3.1 in /Users/tanner.wendland/projects/adtech_app_lakebase_vibe_session/.venv/lib/python3.11/site-packages (from matplotlib<4->mlflow<=3.1) (1.4.8)\n",
      "Requirement already satisfied: pillow>=8 in /Users/tanner.wendland/projects/adtech_app_lakebase_vibe_session/.venv/lib/python3.11/site-packages (from matplotlib<4->mlflow<=3.1) (11.3.0)\n",
      "Requirement already satisfied: pyparsing>=2.3.1 in /Users/tanner.wendland/projects/adtech_app_lakebase_vibe_session/.venv/lib/python3.11/site-packages (from matplotlib<4->mlflow<=3.1) (3.2.3)\n",
      "Requirement already satisfied: opentelemetry-semantic-conventions==0.57b0 in /Users/tanner.wendland/projects/adtech_app_lakebase_vibe_session/.venv/lib/python3.11/site-packages (from opentelemetry-sdk<3,>=1.9.0->mlflow-skinny<4.0.0,>=3.1.0->databricks-agents==1.2.0) (0.57b0)\n",
      "Requirement already satisfied: pytz>=2020.1 in /Users/tanner.wendland/projects/adtech_app_lakebase_vibe_session/.venv/lib/python3.11/site-packages (from pandas<3->mlflow<=3.1) (2025.2)\n",
      "Requirement already satisfied: tzdata>=2022.7 in /Users/tanner.wendland/projects/adtech_app_lakebase_vibe_session/.venv/lib/python3.11/site-packages (from pandas<3->mlflow<=3.1) (2025.2)\n",
      "Requirement already satisfied: annotated-types>=0.6.0 in /Users/tanner.wendland/projects/adtech_app_lakebase_vibe_session/.venv/lib/python3.11/site-packages (from pydantic>=2->databricks-agents==1.2.0) (0.7.0)\n",
      "Requirement already satisfied: pydantic-core==2.33.2 in /Users/tanner.wendland/projects/adtech_app_lakebase_vibe_session/.venv/lib/python3.11/site-packages (from pydantic>=2->databricks-agents==1.2.0) (2.33.2)\n",
      "Requirement already satisfied: typing-inspection>=0.4.0 in /Users/tanner.wendland/projects/adtech_app_lakebase_vibe_session/.venv/lib/python3.11/site-packages (from pydantic>=2->databricks-agents==1.2.0) (0.4.1)\n",
      "Requirement already satisfied: six>=1.5 in /Users/tanner.wendland/projects/adtech_app_lakebase_vibe_session/.venv/lib/python3.11/site-packages (from python-dateutil<3,>=2.7.0->graphene<4->mlflow<=3.1) (1.17.0)\n",
      "Requirement already satisfied: charset_normalizer<4,>=2 in /Users/tanner.wendland/projects/adtech_app_lakebase_vibe_session/.venv/lib/python3.11/site-packages (from requests<3,>=2.28.1->databricks-sdk==0.61.0) (3.4.2)\n",
      "Requirement already satisfied: idna<4,>=2.5 in /Users/tanner.wendland/projects/adtech_app_lakebase_vibe_session/.venv/lib/python3.11/site-packages (from requests<3,>=2.28.1->databricks-sdk==0.61.0) (3.10)\n",
      "Requirement already satisfied: certifi>=2017.4.17 in /Users/tanner.wendland/projects/adtech_app_lakebase_vibe_session/.venv/lib/python3.11/site-packages (from requests<3,>=2.28.1->databricks-sdk==0.61.0) (2025.7.14)\n",
      "Requirement already satisfied: pyasn1>=0.1.3 in /Users/tanner.wendland/projects/adtech_app_lakebase_vibe_session/.venv/lib/python3.11/site-packages (from rsa<5,>=3.1.4->google-auth~=2.0->databricks-sdk==0.61.0) (0.6.1)\n",
      "Requirement already satisfied: joblib>=1.2.0 in /Users/tanner.wendland/projects/adtech_app_lakebase_vibe_session/.venv/lib/python3.11/site-packages (from scikit-learn<2->mlflow<=3.1) (1.5.1)\n",
      "Requirement already satisfied: threadpoolctl>=3.1.0 in /Users/tanner.wendland/projects/adtech_app_lakebase_vibe_session/.venv/lib/python3.11/site-packages (from scikit-learn<2->mlflow<=3.1) (3.6.0)\n",
      "Requirement already satisfied: anyio<5,>=3.6.2 in /Users/tanner.wendland/projects/adtech_app_lakebase_vibe_session/.venv/lib/python3.11/site-packages (from starlette<0.48.0,>=0.40.0->fastapi<1->mlflow-skinny<4.0.0,>=3.1.0->databricks-agents==1.2.0) (4.9.0)\n",
      "Requirement already satisfied: sniffio>=1.1 in /Users/tanner.wendland/projects/adtech_app_lakebase_vibe_session/.venv/lib/python3.11/site-packages (from anyio<5,>=3.6.2->starlette<0.48.0,>=0.40.0->fastapi<1->mlflow-skinny<4.0.0,>=3.1.0->databricks-agents==1.2.0) (1.3.1)\n",
      "Requirement already satisfied: h11>=0.8 in /Users/tanner.wendland/projects/adtech_app_lakebase_vibe_session/.venv/lib/python3.11/site-packages (from uvicorn<1->mlflow-skinny<4.0.0,>=3.1.0->databricks-agents==1.2.0) (0.16.0)\n",
      "Requirement already satisfied: ipython<10,>=8 in /Users/tanner.wendland/projects/adtech_app_lakebase_vibe_session/.venv/lib/python3.11/site-packages (from databricks-sdk[notebook]) (9.4.0)\n",
      "Requirement already satisfied: ipywidgets<9,>=8 in /Users/tanner.wendland/projects/adtech_app_lakebase_vibe_session/.venv/lib/python3.11/site-packages (from databricks-sdk[notebook]) (8.1.7)\n",
      "Requirement already satisfied: decorator in /Users/tanner.wendland/projects/adtech_app_lakebase_vibe_session/.venv/lib/python3.11/site-packages (from ipython<10,>=8->databricks-sdk[notebook]) (5.2.1)\n",
      "Requirement already satisfied: ipython-pygments-lexers in /Users/tanner.wendland/projects/adtech_app_lakebase_vibe_session/.venv/lib/python3.11/site-packages (from ipython<10,>=8->databricks-sdk[notebook]) (1.1.1)\n",
      "Requirement already satisfied: jedi>=0.16 in /Users/tanner.wendland/projects/adtech_app_lakebase_vibe_session/.venv/lib/python3.11/site-packages (from ipython<10,>=8->databricks-sdk[notebook]) (0.19.2)\n",
      "Requirement already satisfied: matplotlib-inline in /Users/tanner.wendland/projects/adtech_app_lakebase_vibe_session/.venv/lib/python3.11/site-packages (from ipython<10,>=8->databricks-sdk[notebook]) (0.1.7)\n",
      "Requirement already satisfied: pexpect>4.3 in /Users/tanner.wendland/projects/adtech_app_lakebase_vibe_session/.venv/lib/python3.11/site-packages (from ipython<10,>=8->databricks-sdk[notebook]) (4.9.0)\n",
      "Requirement already satisfied: prompt_toolkit<3.1.0,>=3.0.41 in /Users/tanner.wendland/projects/adtech_app_lakebase_vibe_session/.venv/lib/python3.11/site-packages (from ipython<10,>=8->databricks-sdk[notebook]) (3.0.51)\n",
      "Requirement already satisfied: pygments>=2.4.0 in /Users/tanner.wendland/projects/adtech_app_lakebase_vibe_session/.venv/lib/python3.11/site-packages (from ipython<10,>=8->databricks-sdk[notebook]) (2.19.2)\n",
      "Requirement already satisfied: stack_data in /Users/tanner.wendland/projects/adtech_app_lakebase_vibe_session/.venv/lib/python3.11/site-packages (from ipython<10,>=8->databricks-sdk[notebook]) (0.6.3)\n",
      "Requirement already satisfied: traitlets>=5.13.0 in /Users/tanner.wendland/projects/adtech_app_lakebase_vibe_session/.venv/lib/python3.11/site-packages (from ipython<10,>=8->databricks-sdk[notebook]) (5.14.3)\n",
      "Requirement already satisfied: comm>=0.1.3 in /Users/tanner.wendland/projects/adtech_app_lakebase_vibe_session/.venv/lib/python3.11/site-packages (from ipywidgets<9,>=8->databricks-sdk[notebook]) (0.2.3)\n",
      "Requirement already satisfied: widgetsnbextension~=4.0.14 in /Users/tanner.wendland/projects/adtech_app_lakebase_vibe_session/.venv/lib/python3.11/site-packages (from ipywidgets<9,>=8->databricks-sdk[notebook]) (4.0.14)\n",
      "Requirement already satisfied: jupyterlab_widgets~=3.0.15 in /Users/tanner.wendland/projects/adtech_app_lakebase_vibe_session/.venv/lib/python3.11/site-packages (from ipywidgets<9,>=8->databricks-sdk[notebook]) (3.0.15)\n",
      "Requirement already satisfied: wcwidth in /Users/tanner.wendland/projects/adtech_app_lakebase_vibe_session/.venv/lib/python3.11/site-packages (from prompt_toolkit<3.1.0,>=3.0.41->ipython<10,>=8->databricks-sdk[notebook]) (0.2.13)\n",
      "Requirement already satisfied: azure-storage-file-datalake>12 in /Users/tanner.wendland/projects/adtech_app_lakebase_vibe_session/.venv/lib/python3.11/site-packages (from mlflow[databricks]) (12.21.0)\n",
      "Requirement already satisfied: google-cloud-storage>=1.30.0 in /Users/tanner.wendland/projects/adtech_app_lakebase_vibe_session/.venv/lib/python3.11/site-packages (from mlflow[databricks]) (3.2.0)\n",
      "Requirement already satisfied: langchain-text-splitters<1.0.0,>=0.3.9 in /Users/tanner.wendland/projects/adtech_app_lakebase_vibe_session/.venv/lib/python3.11/site-packages (from langchain) (0.3.9)\n",
      "Requirement already satisfied: langsmith>=0.1.17 in /Users/tanner.wendland/projects/adtech_app_lakebase_vibe_session/.venv/lib/python3.11/site-packages (from langchain) (0.4.9)\n",
      "Requirement already satisfied: jsonpatch<2.0,>=1.33 in /Users/tanner.wendland/projects/adtech_app_lakebase_vibe_session/.venv/lib/python3.11/site-packages (from langchain_core) (1.33)\n",
      "Requirement already satisfied: jsonpointer>=1.9 in /Users/tanner.wendland/projects/adtech_app_lakebase_vibe_session/.venv/lib/python3.11/site-packages (from jsonpatch<2.0,>=1.33->langchain_core) (3.0.0)\n",
      "Requirement already satisfied: databricks-ai-bridge>=0.6.0 in /Users/tanner.wendland/projects/adtech_app_lakebase_vibe_session/.venv/lib/python3.11/site-packages (from databricks-langchain) (0.6.0)\n",
      "Requirement already satisfied: unitycatalog-langchain>=0.2.0 in /Users/tanner.wendland/projects/adtech_app_lakebase_vibe_session/.venv/lib/python3.11/site-packages (from unitycatalog-langchain[databricks]>=0.2.0->databricks-langchain) (0.2.0)\n",
      "Requirement already satisfied: googleapis-common-protos>=1.56.4 in /Users/tanner.wendland/projects/adtech_app_lakebase_vibe_session/.venv/lib/python3.11/site-packages (from databricks-connect->databricks-agents==1.2.0) (1.70.0)\n",
      "Requirement already satisfied: grpcio-status>=1.59.3 in /Users/tanner.wendland/projects/adtech_app_lakebase_vibe_session/.venv/lib/python3.11/site-packages (from databricks-connect->databricks-agents==1.2.0) (1.71.2)\n",
      "Requirement already satisfied: grpcio>=1.59.3 in /Users/tanner.wendland/projects/adtech_app_lakebase_vibe_session/.venv/lib/python3.11/site-packages (from databricks-connect->databricks-agents==1.2.0) (1.74.0)\n",
      "Requirement already satisfied: py4j==0.10.9.7 in /Users/tanner.wendland/projects/adtech_app_lakebase_vibe_session/.venv/lib/python3.11/site-packages (from databricks-connect->databricks-agents==1.2.0) (0.10.9.7)\n",
      "Requirement already satisfied: setuptools>=68.0.0 in /Users/tanner.wendland/projects/adtech_app_lakebase_vibe_session/.venv/lib/python3.11/site-packages (from databricks-connect->databricks-agents==1.2.0) (80.9.0)\n",
      "Requirement already satisfied: beautifulsoup4 in /Users/tanner.wendland/projects/adtech_app_lakebase_vibe_session/.venv/lib/python3.11/site-packages (from bs4) (4.13.4)\n",
      "Requirement already satisfied: soupsieve>1.2 in /Users/tanner.wendland/projects/adtech_app_lakebase_vibe_session/.venv/lib/python3.11/site-packages (from beautifulsoup4->bs4) (2.7)\n",
      "Requirement already satisfied: python-dotenv in /Users/tanner.wendland/projects/adtech_app_lakebase_vibe_session/.venv/lib/python3.11/site-packages (from dotenv) (1.1.1)\n",
      "Requirement already satisfied: azure-core>=1.30.0 in /Users/tanner.wendland/projects/adtech_app_lakebase_vibe_session/.venv/lib/python3.11/site-packages (from azure-storage-file-datalake>12->mlflow[databricks]) (1.35.0)\n",
      "Requirement already satisfied: azure-storage-blob>=12.26.0 in /Users/tanner.wendland/projects/adtech_app_lakebase_vibe_session/.venv/lib/python3.11/site-packages (from azure-storage-file-datalake>12->mlflow[databricks]) (12.26.0)\n",
      "Requirement already satisfied: isodate>=0.6.1 in /Users/tanner.wendland/projects/adtech_app_lakebase_vibe_session/.venv/lib/python3.11/site-packages (from azure-storage-file-datalake>12->mlflow[databricks]) (0.7.2)\n",
      "Requirement already satisfied: cryptography>=2.1.4 in /Users/tanner.wendland/projects/adtech_app_lakebase_vibe_session/.venv/lib/python3.11/site-packages (from azure-storage-blob>=12.26.0->azure-storage-file-datalake>12->mlflow[databricks]) (45.0.5)\n",
      "Requirement already satisfied: jmespath<2.0.0,>=0.7.1 in /Users/tanner.wendland/projects/adtech_app_lakebase_vibe_session/.venv/lib/python3.11/site-packages (from boto3>1->databricks-agents==1.2.0) (1.0.1)\n",
      "Requirement already satisfied: s3transfer<0.14.0,>=0.13.0 in /Users/tanner.wendland/projects/adtech_app_lakebase_vibe_session/.venv/lib/python3.11/site-packages (from boto3>1->databricks-agents==1.2.0) (0.13.1)\n",
      "Requirement already satisfied: cffi>=1.14 in /Users/tanner.wendland/projects/adtech_app_lakebase_vibe_session/.venv/lib/python3.11/site-packages (from cryptography>=2.1.4->azure-storage-blob>=12.26.0->azure-storage-file-datalake>12->mlflow[databricks]) (1.17.1)\n",
      "Requirement already satisfied: pycparser in /Users/tanner.wendland/projects/adtech_app_lakebase_vibe_session/.venv/lib/python3.11/site-packages (from cffi>=1.14->cryptography>=2.1.4->azure-storage-blob>=12.26.0->azure-storage-file-datalake>12->mlflow[databricks]) (2.22)\n",
      "Requirement already satisfied: tabulate>=0.9.0 in /Users/tanner.wendland/projects/adtech_app_lakebase_vibe_session/.venv/lib/python3.11/site-packages (from databricks-ai-bridge>=0.6.0->databricks-langchain) (0.9.0)\n",
      "Requirement already satisfied: openai in /Users/tanner.wendland/projects/adtech_app_lakebase_vibe_session/.venv/lib/python3.11/site-packages (from databricks-sdk[openai]>=0.58.0->databricks-agents==1.2.0) (1.98.0)\n",
      "Requirement already satisfied: langchain-openai in /Users/tanner.wendland/projects/adtech_app_lakebase_vibe_session/.venv/lib/python3.11/site-packages (from databricks-sdk[openai]>=0.58.0->databricks-agents==1.2.0) (0.3.28)\n",
      "Requirement already satisfied: httpx in /Users/tanner.wendland/projects/adtech_app_lakebase_vibe_session/.venv/lib/python3.11/site-packages (from databricks-sdk[openai]>=0.58.0->databricks-agents==1.2.0) (0.28.1)\n",
      "Requirement already satisfied: google-api-core<3.0.0,>=2.15.0 in /Users/tanner.wendland/projects/adtech_app_lakebase_vibe_session/.venv/lib/python3.11/site-packages (from google-cloud-storage>=1.30.0->mlflow[databricks]) (2.25.1)\n",
      "Requirement already satisfied: google-cloud-core<3.0.0,>=2.4.2 in /Users/tanner.wendland/projects/adtech_app_lakebase_vibe_session/.venv/lib/python3.11/site-packages (from google-cloud-storage>=1.30.0->mlflow[databricks]) (2.4.3)\n",
      "Requirement already satisfied: google-resumable-media<3.0.0,>=2.7.2 in /Users/tanner.wendland/projects/adtech_app_lakebase_vibe_session/.venv/lib/python3.11/site-packages (from google-cloud-storage>=1.30.0->mlflow[databricks]) (2.7.2)\n",
      "Requirement already satisfied: google-crc32c<2.0.0,>=1.1.3 in /Users/tanner.wendland/projects/adtech_app_lakebase_vibe_session/.venv/lib/python3.11/site-packages (from google-cloud-storage>=1.30.0->mlflow[databricks]) (1.7.1)\n",
      "Requirement already satisfied: proto-plus<2.0.0,>=1.22.3 in /Users/tanner.wendland/projects/adtech_app_lakebase_vibe_session/.venv/lib/python3.11/site-packages (from google-api-core<3.0.0,>=2.15.0->google-cloud-storage>=1.30.0->mlflow[databricks]) (1.26.1)\n",
      "Requirement already satisfied: parso<0.9.0,>=0.8.4 in /Users/tanner.wendland/projects/adtech_app_lakebase_vibe_session/.venv/lib/python3.11/site-packages (from jedi>=0.16->ipython<10,>=8->databricks-sdk[notebook]) (0.8.4)\n",
      "Requirement already satisfied: orjson<4.0.0,>=3.9.14 in /Users/tanner.wendland/projects/adtech_app_lakebase_vibe_session/.venv/lib/python3.11/site-packages (from langsmith>=0.1.17->langchain) (3.11.1)\n",
      "Requirement already satisfied: requests-toolbelt<2.0.0,>=1.0.0 in /Users/tanner.wendland/projects/adtech_app_lakebase_vibe_session/.venv/lib/python3.11/site-packages (from langsmith>=0.1.17->langchain) (1.0.0)\n",
      "Requirement already satisfied: zstandard<0.24.0,>=0.23.0 in /Users/tanner.wendland/projects/adtech_app_lakebase_vibe_session/.venv/lib/python3.11/site-packages (from langsmith>=0.1.17->langchain) (0.23.0)\n",
      "Requirement already satisfied: httpcore==1.* in /Users/tanner.wendland/projects/adtech_app_lakebase_vibe_session/.venv/lib/python3.11/site-packages (from httpx->databricks-sdk[openai]>=0.58.0->databricks-agents==1.2.0) (1.0.9)\n",
      "Requirement already satisfied: ptyprocess>=0.5 in /Users/tanner.wendland/projects/adtech_app_lakebase_vibe_session/.venv/lib/python3.11/site-packages (from pexpect>4.3->ipython<10,>=8->databricks-sdk[notebook]) (0.7.0)\n",
      "Requirement already satisfied: regex>=2022.1.18 in /Users/tanner.wendland/projects/adtech_app_lakebase_vibe_session/.venv/lib/python3.11/site-packages (from tiktoken>=0.8.0->databricks-agents==1.2.0) (2025.7.34)\n",
      "Requirement already satisfied: langchain-community>=0.2.0 in /Users/tanner.wendland/projects/adtech_app_lakebase_vibe_session/.venv/lib/python3.11/site-packages (from unitycatalog-langchain>=0.2.0->unitycatalog-langchain[databricks]>=0.2.0->databricks-langchain) (0.3.27)\n",
      "Requirement already satisfied: unitycatalog-ai in /Users/tanner.wendland/projects/adtech_app_lakebase_vibe_session/.venv/lib/python3.11/site-packages (from unitycatalog-langchain>=0.2.0->unitycatalog-langchain[databricks]>=0.2.0->databricks-langchain) (0.3.1)\n",
      "Requirement already satisfied: aiohttp<4.0.0,>=3.8.3 in /Users/tanner.wendland/projects/adtech_app_lakebase_vibe_session/.venv/lib/python3.11/site-packages (from langchain-community>=0.2.0->unitycatalog-langchain>=0.2.0->unitycatalog-langchain[databricks]>=0.2.0->databricks-langchain) (3.12.15)\n",
      "Requirement already satisfied: pydantic-settings<3.0.0,>=2.4.0 in /Users/tanner.wendland/projects/adtech_app_lakebase_vibe_session/.venv/lib/python3.11/site-packages (from langchain-community>=0.2.0->unitycatalog-langchain>=0.2.0->unitycatalog-langchain[databricks]>=0.2.0->databricks-langchain) (2.10.1)\n",
      "Requirement already satisfied: httpx-sse<1.0.0,>=0.4.0 in /Users/tanner.wendland/projects/adtech_app_lakebase_vibe_session/.venv/lib/python3.11/site-packages (from langchain-community>=0.2.0->unitycatalog-langchain>=0.2.0->unitycatalog-langchain[databricks]>=0.2.0->databricks-langchain) (0.4.1)\n",
      "Requirement already satisfied: aiohappyeyeballs>=2.5.0 in /Users/tanner.wendland/projects/adtech_app_lakebase_vibe_session/.venv/lib/python3.11/site-packages (from aiohttp<4.0.0,>=3.8.3->langchain-community>=0.2.0->unitycatalog-langchain>=0.2.0->unitycatalog-langchain[databricks]>=0.2.0->databricks-langchain) (2.6.1)\n",
      "Requirement already satisfied: aiosignal>=1.4.0 in /Users/tanner.wendland/projects/adtech_app_lakebase_vibe_session/.venv/lib/python3.11/site-packages (from aiohttp<4.0.0,>=3.8.3->langchain-community>=0.2.0->unitycatalog-langchain>=0.2.0->unitycatalog-langchain[databricks]>=0.2.0->databricks-langchain) (1.4.0)\n",
      "Requirement already satisfied: attrs>=17.3.0 in /Users/tanner.wendland/projects/adtech_app_lakebase_vibe_session/.venv/lib/python3.11/site-packages (from aiohttp<4.0.0,>=3.8.3->langchain-community>=0.2.0->unitycatalog-langchain>=0.2.0->unitycatalog-langchain[databricks]>=0.2.0->databricks-langchain) (25.3.0)\n",
      "Requirement already satisfied: frozenlist>=1.1.1 in /Users/tanner.wendland/projects/adtech_app_lakebase_vibe_session/.venv/lib/python3.11/site-packages (from aiohttp<4.0.0,>=3.8.3->langchain-community>=0.2.0->unitycatalog-langchain>=0.2.0->unitycatalog-langchain[databricks]>=0.2.0->databricks-langchain) (1.7.0)\n",
      "Requirement already satisfied: multidict<7.0,>=4.5 in /Users/tanner.wendland/projects/adtech_app_lakebase_vibe_session/.venv/lib/python3.11/site-packages (from aiohttp<4.0.0,>=3.8.3->langchain-community>=0.2.0->unitycatalog-langchain>=0.2.0->unitycatalog-langchain[databricks]>=0.2.0->databricks-langchain) (6.6.3)\n",
      "Requirement already satisfied: propcache>=0.2.0 in /Users/tanner.wendland/projects/adtech_app_lakebase_vibe_session/.venv/lib/python3.11/site-packages (from aiohttp<4.0.0,>=3.8.3->langchain-community>=0.2.0->unitycatalog-langchain>=0.2.0->unitycatalog-langchain[databricks]>=0.2.0->databricks-langchain) (0.3.2)\n",
      "Requirement already satisfied: yarl<2.0,>=1.17.0 in /Users/tanner.wendland/projects/adtech_app_lakebase_vibe_session/.venv/lib/python3.11/site-packages (from aiohttp<4.0.0,>=3.8.3->langchain-community>=0.2.0->unitycatalog-langchain>=0.2.0->unitycatalog-langchain[databricks]>=0.2.0->databricks-langchain) (1.20.1)\n",
      "Requirement already satisfied: marshmallow<4.0.0,>=3.18.0 in /Users/tanner.wendland/projects/adtech_app_lakebase_vibe_session/.venv/lib/python3.11/site-packages (from dataclasses-json->databricks-agents==1.2.0) (3.26.1)\n",
      "Requirement already satisfied: typing-inspect<1,>=0.4.0 in /Users/tanner.wendland/projects/adtech_app_lakebase_vibe_session/.venv/lib/python3.11/site-packages (from dataclasses-json->databricks-agents==1.2.0) (0.9.0)\n",
      "Requirement already satisfied: mypy-extensions>=0.3.0 in /Users/tanner.wendland/projects/adtech_app_lakebase_vibe_session/.venv/lib/python3.11/site-packages (from typing-inspect<1,>=0.4.0->dataclasses-json->databricks-agents==1.2.0) (1.1.0)\n",
      "Requirement already satisfied: distro<2,>=1.7.0 in /Users/tanner.wendland/projects/adtech_app_lakebase_vibe_session/.venv/lib/python3.11/site-packages (from openai->databricks-sdk[openai]>=0.58.0->databricks-agents==1.2.0) (1.9.0)\n",
      "Requirement already satisfied: jiter<1,>=0.4.0 in /Users/tanner.wendland/projects/adtech_app_lakebase_vibe_session/.venv/lib/python3.11/site-packages (from openai->databricks-sdk[openai]>=0.58.0->databricks-agents==1.2.0) (0.10.0)\n",
      "Requirement already satisfied: executing>=1.2.0 in /Users/tanner.wendland/projects/adtech_app_lakebase_vibe_session/.venv/lib/python3.11/site-packages (from stack_data->ipython<10,>=8->databricks-sdk[notebook]) (2.2.0)\n",
      "Requirement already satisfied: asttokens>=2.1.0 in /Users/tanner.wendland/projects/adtech_app_lakebase_vibe_session/.venv/lib/python3.11/site-packages (from stack_data->ipython<10,>=8->databricks-sdk[notebook]) (3.0.0)\n",
      "Requirement already satisfied: pure-eval in /Users/tanner.wendland/projects/adtech_app_lakebase_vibe_session/.venv/lib/python3.11/site-packages (from stack_data->ipython<10,>=8->databricks-sdk[notebook]) (0.2.3)\n",
      "Requirement already satisfied: nest-asyncio in /Users/tanner.wendland/projects/adtech_app_lakebase_vibe_session/.venv/lib/python3.11/site-packages (from unitycatalog-ai->unitycatalog-langchain>=0.2.0->unitycatalog-langchain[databricks]>=0.2.0->databricks-langchain) (1.6.0)\n",
      "Requirement already satisfied: unitycatalog-client in /Users/tanner.wendland/projects/adtech_app_lakebase_vibe_session/.venv/lib/python3.11/site-packages (from unitycatalog-ai->unitycatalog-langchain>=0.2.0->unitycatalog-langchain[databricks]>=0.2.0->databricks-langchain) (0.3.0)\n",
      "Requirement already satisfied: aiohttp-retry>=2.8.3 in /Users/tanner.wendland/projects/adtech_app_lakebase_vibe_session/.venv/lib/python3.11/site-packages (from unitycatalog-client->unitycatalog-ai->unitycatalog-langchain>=0.2.0->unitycatalog-langchain[databricks]>=0.2.0->databricks-langchain) (2.9.1)\n",
      "Using cached pyarrow-19.0.1-cp311-cp311-macosx_12_0_arm64.whl (30.7 MB)\n",
      "Installing collected packages: pyarrow\n",
      "  Attempting uninstall: pyarrow\n",
      "    Found existing installation: pyarrow 20.0.0\n",
      "    Uninstalling pyarrow-20.0.0:\n",
      "      Successfully uninstalled pyarrow-20.0.0\n",
      "Successfully installed pyarrow-19.0.1\n",
      "Note: you may need to restart the kernel to use updated packages.\n"
     ]
    }
   ],
   "source": [
    "%pip install 'databricks-sdk==0.61.0' 'pyarrow<20' 'databricks-sdk[notebook]' 'databricks-agents==1.2.0' 'mlflow<=3.1' 'mlflow[databricks]' 'databricks-vectorsearch==0.57' 'langchain' 'langchain_core' 'databricks-langchain' 'bs4' 'markdownify' 'dotenv'"
   ]
  },
  {
   "cell_type": "code",
   "execution_count": 8,
   "metadata": {},
   "outputs": [
    {
     "data": {
      "application/vnd.jupyter.widget-view+json": {
       "model_id": "8329f6c2f32a4f079d5b0b7b507b63ab",
       "version_major": 2,
       "version_minor": 0
      },
      "text/plain": [
       "Box(children=(Label(value='vector_search_endpoint'), Text(value='one-env-shared-endpoint-7')))"
      ]
     },
     "metadata": {},
     "output_type": "display_data"
    },
    {
     "data": {
      "application/vnd.jupyter.widget-view+json": {
       "model_id": "503877bacf49459a8447cd8c84fedee8",
       "version_major": 2,
       "version_minor": 0
      },
      "text/plain": [
       "Box(children=(Label(value='vector_search_index'), Text(value='tanner_wendland.default.chat_history_index')))"
      ]
     },
     "metadata": {},
     "output_type": "display_data"
    }
   ],
   "source": [
    "dbutils.widgets.text(\"vector_search_endpoint\", \"one-env-shared-endpoint-7\")\n",
    "dbutils.widgets.text(\"vector_search_index\", \"tanner_wendland.default.chat_history_index\")"
   ]
  },
  {
   "cell_type": "code",
   "execution_count": 9,
   "metadata": {},
   "outputs": [],
   "source": [
    "vector_search_endpoint = dbutils.widgets.get(\"vector_search_endpoint\")\n",
    "vector_search_index = dbutils.widgets.get(\"vector_search_index\")"
   ]
  },
  {
   "cell_type": "code",
   "execution_count": 4,
   "metadata": {},
   "outputs": [],
   "source": [
    "from databricks.vector_search.client import VectorSearchClient\n",
    "import os\n",
    "\n",
    "vsc: VectorSearchClient = None\n",
    "if os.environ.get(\"DATABRICKS_RUNTIME_VERSION\"):\n",
    "    vsc = VectorSearchClient(disable_notice=True)\n",
    "else:\n",
    "    import dotenv\n",
    "    dotenv.load_dotenv('.env')\n",
    "    vsc = VectorSearchClient(disable_notice=True, workspace_url=os.environ.get(\"DATABRICKS_HOST\"), personal_access_token=os.environ.get(\"DATABRICKS_TOKEN\"))"
   ]
  },
  {
   "cell_type": "code",
   "execution_count": 13,
   "metadata": {},
   "outputs": [
    {
     "name": "stdout",
     "output_type": "stream",
     "text": [
      "[NOTICE] Using a Personal Authentication Token (PAT). Recommended for development only. For improved performance, please use Service Principal based authentication. To disable this message, pass disable_notice=True.\n"
     ]
    },
    {
     "data": {
      "text/plain": [
       "[[\"I'm testing my Chat history pipeline. it'll be pretty cool. These chats, are getting saves to postges. Then I have an ETL script that syncs that over, then created a vector embedding with it. So eventually I'll keep messages in history but also RAG for you to look at the things we've said previously. Won't that be cool.\",\n",
       "  0.0045527783]]"
      ]
     },
     "execution_count": 13,
     "metadata": {},
     "output_type": "execute_result"
    }
   ],
   "source": [
    "question = \"Tell me about the chat history\"\n",
    "\n",
    "results = vsc.get_index(vector_search_endpoint, vector_search_index).similarity_search(\n",
    "  query_text=question,\n",
    "  columns=[\"message_content\"],\n",
    "  num_results=1)\n",
    "docs = results.get('result', {}).get('data_array', [])\n",
    "docs"
   ]
  },
  {
   "cell_type": "code",
   "execution_count": 14,
   "metadata": {},
   "outputs": [],
   "source": [
    "import mlflow\n",
    "mlflow.set_registry_uri(\"databricks-uc\")"
   ]
  },
  {
   "cell_type": "code",
   "execution_count": 16,
   "metadata": {},
   "outputs": [],
   "source": [
    "chain_config = {\n",
    "    \"llm_model_serving_endpoint_name\": \"databricks-claude-3-7-sonnet\",\n",
    "    \"vector_search_endpoint_name\": vector_search_endpoint,  # the endoint we want to use for vector search\n",
    "    \"vector_search_index\": vector_search_index,\n",
    "    \"llm_prompt_template\": \"\"\"You are an assistant that answers questions based on chat history obtained from a vector search index. Use the following pieces of retrieved context to answer the question. Some pieces of context may be irrelevant, in which case you should not use them to form the answer.\\n\\nContext: {context}\"\"\",\n",
    "}"
   ]
  },
  {
   "cell_type": "markdown",
   "metadata": {},
   "source": [
    "## Testing Basic Chain"
   ]
  },
  {
   "cell_type": "code",
   "execution_count": 18,
   "metadata": {},
   "outputs": [
    {
     "name": "stdout",
     "output_type": "stream",
     "text": [
      "[NOTICE] Using a notebook authentication token. Recommended for development only. For improved performance, please use Service Principal based authentication. To disable this message, pass disable_notice=True.\n",
      "Passage: I'm testing my Chat history pipeline. it'll be pretty cool. These chats, are getting saves to postges. Then I have an ETL script that syncs that over, then created a vector embedding with it. So eventually I'll keep messages in history but also RAG for you to look at the things we've said previously. Won't that be cool.\n",
      "Passage: test chat\n",
      "Passage: That sounds incredibly cool! You're building a sophisticated system that:\n",
      "\n",
      "1. Saves our chat history to PostgreSQL\n",
      "2. Uses an ETL process to sync that data\n",
      "3. Creates vector embeddings from our conversations\n",
      "4. Will implement RAG (Retrieval-Augmented Generation) to let me access our previous conversations\n",
      "\n",
      "This is a really smart approach! The vector embeddings will allow for semantic searching through our past conversations rather than just keyword matching. And using RAG means I'll be able to reference specific parts of our conversation history that are most relevant to current questions.\n",
      "\n",
      "Are you building this for personal use, or is it part of a larger project? The architecture you're describing is similar to what many advanced AI assistants use to maintain context and provide more personalized responses over time.\n",
      "\n"
     ]
    }
   ],
   "source": [
    "from databricks.vector_search.client import VectorSearchClient\n",
    "from databricks_langchain import DatabricksVectorSearch\n",
    "from langchain.schema.runnable import RunnableLambda\n",
    "from langchain_core.output_parsers import StrOutputParser\n",
    "\n",
    "## Load the chain's configuration\n",
    "model_config = mlflow.models.ModelConfig(development_config=chain_config)\n",
    "\n",
    "## Turn the Vector Search index into a LangChain retriever\n",
    "vector_search_as_retriever = DatabricksVectorSearch(\n",
    "    endpoint=model_config.get(\"vector_search_endpoint_name\"),\n",
    "    index_name=model_config.get(\"vector_search_index\"),\n",
    "    columns=[\"id\", \"message_content\"],\n",
    ").as_retriever(search_kwargs={\"k\": 3})\n",
    "\n",
    "# Method to format the docs returned by the retriever into the prompt (keep only the text from chunks)\n",
    "def format_context(docs):\n",
    "    chunk_contents = [f\"Passage: {d.page_content}\\n\" for d in docs]\n",
    "    return \"\".join(chunk_contents)\n",
    "\n",
    "#Let's try our retriever chain:\n",
    "relevant_docs = (vector_search_as_retriever | RunnableLambda(format_context)| StrOutputParser()).invoke('What was my chat history idea?')\n",
    "\n",
    "print(relevant_docs)"
   ]
  },
  {
   "cell_type": "markdown",
   "metadata": {},
   "source": [
    "## Real Chain"
   ]
  },
  {
   "cell_type": "code",
   "execution_count": 20,
   "metadata": {},
   "outputs": [],
   "source": [
    "from langchain_core.prompts import ChatPromptTemplate\n",
    "from databricks_langchain.chat_models import ChatDatabricks\n",
    "from operator import itemgetter\n",
    "\n",
    "prompt = ChatPromptTemplate.from_messages(\n",
    "    [  \n",
    "        (\"system\", model_config.get(\"llm_prompt_template\")), # Contains the instructions from the configuration\n",
    "        (\"user\", \"{question}\") #user's questions\n",
    "    ]\n",
    ")\n",
    "\n",
    "# Our foundation model answering the final prompt\n",
    "model = ChatDatabricks(\n",
    "    endpoint=model_config.get(\"llm_model_serving_endpoint_name\"),\n",
    "    extra_params={\"temperature\": 0.01, \"max_tokens\": 500}\n",
    ")\n",
    "\n",
    "def extract_user_query_string(chat_messages_array):\n",
    "    return chat_messages_array[-1][\"content\"]\n",
    "\n",
    "# RAG Chain\n",
    "chain = (\n",
    "    {\n",
    "        \"question\": itemgetter(\"messages\") | RunnableLambda(extract_user_query_string),\n",
    "        \"context\": itemgetter(\"messages\")\n",
    "        | RunnableLambda(extract_user_query_string)\n",
    "        | vector_search_as_retriever\n",
    "        | RunnableLambda(format_context),\n",
    "    }\n",
    "    | prompt\n",
    "    | model\n",
    "    | StrOutputParser()\n",
    ")"
   ]
  },
  {
   "cell_type": "code",
   "execution_count": 21,
   "metadata": {},
   "outputs": [
    {
     "name": "stdout",
     "output_type": "stream",
     "text": [
      "[NOTICE] Using a notebook authentication token. Recommended for development only. For improved performance, please use Service Principal based authentication. To disable this message, pass disable_notice=True.\n",
      "Based on the chat history, you were building a chat history pipeline with several components:\n",
      "\n",
      "1. Saving chat messages to PostgreSQL database\n",
      "2. Using an ETL (Extract, Transform, Load) script to synchronize the data\n",
      "3. Creating vector embeddings from the conversations\n",
      "4. Implementing RAG (Retrieval-Augmented Generation) to allow looking back at previous conversations\n",
      "\n",
      "The goal was to not only keep a record of message history but also to enable semantic searching through past conversations, allowing the AI to reference relevant parts of previous discussions when responding to new questions. You described this system as \"pretty cool\" because it would enhance the contextual awareness of your conversations.\n"
     ]
    }
   ],
   "source": [
    "input_example = {\"messages\": [ {\"role\": \"user\", \"content\": \"What was my chat history idea?\"}]}\n",
    "answer = chain.invoke(input_example)\n",
    "print(answer)"
   ]
  }
 ],
 "metadata": {
  "kernelspec": {
   "display_name": ".venv",
   "language": "python",
   "name": "python3"
  },
  "language_info": {
   "codemirror_mode": {
    "name": "ipython",
    "version": 3
   },
   "file_extension": ".py",
   "mimetype": "text/x-python",
   "name": "python",
   "nbconvert_exporter": "python",
   "pygments_lexer": "ipython3",
   "version": "3.11.10"
  }
 },
 "nbformat": 4,
 "nbformat_minor": 2
}
